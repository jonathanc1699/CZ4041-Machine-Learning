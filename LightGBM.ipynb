{
 "cells": [
  {
   "cell_type": "code",
   "execution_count": 1,
   "id": "49abd401",
   "metadata": {
    "scrolled": true
   },
   "outputs": [],
   "source": [
    "import pandas as pd\n",
    "from matplotlib import pyplot as plt"
   ]
  },
  {
   "cell_type": "code",
   "execution_count": 2,
   "id": "33d598af",
   "metadata": {
    "scrolled": true
   },
   "outputs": [
    {
     "data": {
      "text/plain": [
       "5"
      ]
     },
     "execution_count": 2,
     "metadata": {},
     "output_type": "execute_result"
    }
   ],
   "source": [
    "import calendar\n",
    "import numpy as np\n",
    "calendar.setfirstweekday(0)\n",
    "\n",
    "def get_week_of_month(year, month, day):\n",
    "    x = np.array(calendar.monthcalendar(year, month))\n",
    "    week_of_month = np.where(x==day)[0][0] + 1\n",
    "    return(week_of_month)\n",
    "\n",
    "get_week_of_month(2021,11,30)"
   ]
  },
  {
   "cell_type": "code",
   "execution_count": 3,
   "id": "3a3ce3ef",
   "metadata": {
    "scrolled": true
   },
   "outputs": [],
   "source": [
    "import datetime"
   ]
  },
  {
   "cell_type": "code",
   "execution_count": 4,
   "id": "eb3c0dfa",
   "metadata": {
    "scrolled": true
   },
   "outputs": [
    {
     "data": {
      "text/plain": [
       "'Tuesday'"
      ]
     },
     "execution_count": 4,
     "metadata": {},
     "output_type": "execute_result"
    }
   ],
   "source": [
    "from datetime import datetime\n",
    "import calendar\n",
    "my_date = datetime.strptime('2021-11-30', \"%Y-%m-%d\")\n",
    "calendar.day_name[my_date.weekday()]"
   ]
  },
  {
   "cell_type": "code",
   "execution_count": 5,
   "id": "b9d0863c",
   "metadata": {
    "scrolled": true
   },
   "outputs": [],
   "source": [
    "def return_day(date_string):\n",
    "    my_date = datetime.strptime(date_string, \"%Y-%m-%d\")\n",
    "    return calendar.day_name[my_date.weekday()]"
   ]
  },
  {
   "cell_type": "code",
   "execution_count": 6,
   "id": "86c08102",
   "metadata": {
    "scrolled": true
   },
   "outputs": [
    {
     "data": {
      "text/plain": [
       "'Tuesday'"
      ]
     },
     "execution_count": 6,
     "metadata": {},
     "output_type": "execute_result"
    }
   ],
   "source": [
    "return_day('2021-11-30')"
   ]
  },
  {
   "cell_type": "code",
   "execution_count": 465,
   "id": "831c0221",
   "metadata": {
    "scrolled": true
   },
   "outputs": [
    {
     "name": "stdout",
     "output_type": "stream",
     "text": [
      "Shape of the train data: (913000, 4)\n",
      "         date  store  item  sales\n",
      "0  2013-01-01      1     1     13\n",
      "1  2013-01-02      1     1     11\n",
      "2  2013-01-03      1     1     14\n",
      "3  2013-01-04      1     1     13\n",
      "4  2013-01-05      1     1     10\n",
      "5  2013-01-06      1     1     12\n",
      "6  2013-01-07      1     1     10\n",
      "7  2013-01-08      1     1      9\n",
      "8  2013-01-09      1     1     12\n",
      "9  2013-01-10      1     1      9\n"
     ]
    }
   ],
   "source": [
    "train = pd.read_csv(\"train.csv\")\n",
    "print('Shape of the train data:',train.shape)\n",
    "print(train.head(10))"
   ]
  },
  {
   "cell_type": "code",
   "execution_count": 466,
   "id": "07e68190",
   "metadata": {
    "scrolled": true
   },
   "outputs": [],
   "source": [
    "train['year']=train['date'].apply(lambda x: x[:4]).astype(int)\n",
    "train['month']=train['date'].apply(lambda x: x[5:7]).astype(int)\n",
    "train['day']=train['date'].apply(lambda x: x[8:10]).astype(int)"
   ]
  },
  {
   "cell_type": "code",
   "execution_count": 467,
   "id": "e62c6e11",
   "metadata": {
    "scrolled": true
   },
   "outputs": [
    {
     "data": {
      "text/html": [
       "<div>\n",
       "<style scoped>\n",
       "    .dataframe tbody tr th:only-of-type {\n",
       "        vertical-align: middle;\n",
       "    }\n",
       "\n",
       "    .dataframe tbody tr th {\n",
       "        vertical-align: top;\n",
       "    }\n",
       "\n",
       "    .dataframe thead th {\n",
       "        text-align: right;\n",
       "    }\n",
       "</style>\n",
       "<table border=\"1\" class=\"dataframe\">\n",
       "  <thead>\n",
       "    <tr style=\"text-align: right;\">\n",
       "      <th></th>\n",
       "      <th>date</th>\n",
       "      <th>store</th>\n",
       "      <th>item</th>\n",
       "      <th>sales</th>\n",
       "      <th>year</th>\n",
       "      <th>month</th>\n",
       "      <th>day</th>\n",
       "    </tr>\n",
       "  </thead>\n",
       "  <tbody>\n",
       "    <tr>\n",
       "      <th>0</th>\n",
       "      <td>2013-01-01</td>\n",
       "      <td>1</td>\n",
       "      <td>1</td>\n",
       "      <td>13</td>\n",
       "      <td>2013</td>\n",
       "      <td>1</td>\n",
       "      <td>1</td>\n",
       "    </tr>\n",
       "    <tr>\n",
       "      <th>1</th>\n",
       "      <td>2013-01-02</td>\n",
       "      <td>1</td>\n",
       "      <td>1</td>\n",
       "      <td>11</td>\n",
       "      <td>2013</td>\n",
       "      <td>1</td>\n",
       "      <td>2</td>\n",
       "    </tr>\n",
       "    <tr>\n",
       "      <th>2</th>\n",
       "      <td>2013-01-03</td>\n",
       "      <td>1</td>\n",
       "      <td>1</td>\n",
       "      <td>14</td>\n",
       "      <td>2013</td>\n",
       "      <td>1</td>\n",
       "      <td>3</td>\n",
       "    </tr>\n",
       "    <tr>\n",
       "      <th>3</th>\n",
       "      <td>2013-01-04</td>\n",
       "      <td>1</td>\n",
       "      <td>1</td>\n",
       "      <td>13</td>\n",
       "      <td>2013</td>\n",
       "      <td>1</td>\n",
       "      <td>4</td>\n",
       "    </tr>\n",
       "    <tr>\n",
       "      <th>4</th>\n",
       "      <td>2013-01-05</td>\n",
       "      <td>1</td>\n",
       "      <td>1</td>\n",
       "      <td>10</td>\n",
       "      <td>2013</td>\n",
       "      <td>1</td>\n",
       "      <td>5</td>\n",
       "    </tr>\n",
       "    <tr>\n",
       "      <th>...</th>\n",
       "      <td>...</td>\n",
       "      <td>...</td>\n",
       "      <td>...</td>\n",
       "      <td>...</td>\n",
       "      <td>...</td>\n",
       "      <td>...</td>\n",
       "      <td>...</td>\n",
       "    </tr>\n",
       "    <tr>\n",
       "      <th>912995</th>\n",
       "      <td>2017-12-27</td>\n",
       "      <td>10</td>\n",
       "      <td>50</td>\n",
       "      <td>63</td>\n",
       "      <td>2017</td>\n",
       "      <td>12</td>\n",
       "      <td>27</td>\n",
       "    </tr>\n",
       "    <tr>\n",
       "      <th>912996</th>\n",
       "      <td>2017-12-28</td>\n",
       "      <td>10</td>\n",
       "      <td>50</td>\n",
       "      <td>59</td>\n",
       "      <td>2017</td>\n",
       "      <td>12</td>\n",
       "      <td>28</td>\n",
       "    </tr>\n",
       "    <tr>\n",
       "      <th>912997</th>\n",
       "      <td>2017-12-29</td>\n",
       "      <td>10</td>\n",
       "      <td>50</td>\n",
       "      <td>74</td>\n",
       "      <td>2017</td>\n",
       "      <td>12</td>\n",
       "      <td>29</td>\n",
       "    </tr>\n",
       "    <tr>\n",
       "      <th>912998</th>\n",
       "      <td>2017-12-30</td>\n",
       "      <td>10</td>\n",
       "      <td>50</td>\n",
       "      <td>62</td>\n",
       "      <td>2017</td>\n",
       "      <td>12</td>\n",
       "      <td>30</td>\n",
       "    </tr>\n",
       "    <tr>\n",
       "      <th>912999</th>\n",
       "      <td>2017-12-31</td>\n",
       "      <td>10</td>\n",
       "      <td>50</td>\n",
       "      <td>82</td>\n",
       "      <td>2017</td>\n",
       "      <td>12</td>\n",
       "      <td>31</td>\n",
       "    </tr>\n",
       "  </tbody>\n",
       "</table>\n",
       "<p>913000 rows × 7 columns</p>\n",
       "</div>"
      ],
      "text/plain": [
       "              date  store  item  sales  year  month  day\n",
       "0       2013-01-01      1     1     13  2013      1    1\n",
       "1       2013-01-02      1     1     11  2013      1    2\n",
       "2       2013-01-03      1     1     14  2013      1    3\n",
       "3       2013-01-04      1     1     13  2013      1    4\n",
       "4       2013-01-05      1     1     10  2013      1    5\n",
       "...            ...    ...   ...    ...   ...    ...  ...\n",
       "912995  2017-12-27     10    50     63  2017     12   27\n",
       "912996  2017-12-28     10    50     59  2017     12   28\n",
       "912997  2017-12-29     10    50     74  2017     12   29\n",
       "912998  2017-12-30     10    50     62  2017     12   30\n",
       "912999  2017-12-31     10    50     82  2017     12   31\n",
       "\n",
       "[913000 rows x 7 columns]"
      ]
     },
     "execution_count": 467,
     "metadata": {},
     "output_type": "execute_result"
    }
   ],
   "source": [
    "train"
   ]
  },
  {
   "cell_type": "code",
   "execution_count": 468,
   "id": "be1d04ce",
   "metadata": {
    "scrolled": true
   },
   "outputs": [],
   "source": [
    "train['day_of_week']=train['date'].apply(return_day)"
   ]
  },
  {
   "cell_type": "code",
   "execution_count": 469,
   "id": "09bee956",
   "metadata": {
    "scrolled": true
   },
   "outputs": [],
   "source": [
    "train['week_number']=train.apply(lambda x: get_week_of_month(x.year, x.month,x.day), axis=1)"
   ]
  },
  {
   "cell_type": "code",
   "execution_count": 470,
   "id": "2a2e29ab",
   "metadata": {
    "scrolled": true
   },
   "outputs": [],
   "source": [
    "train['date']=pd.to_datetime(train['date'])"
   ]
  },
  {
   "cell_type": "code",
   "execution_count": 471,
   "id": "3b42a313",
   "metadata": {
    "scrolled": true
   },
   "outputs": [],
   "source": [
    "train[\"is_wknd\"] = train.date.dt.weekday // 4"
   ]
  },
  {
   "cell_type": "code",
   "execution_count": 472,
   "id": "3618d9e5",
   "metadata": {
    "scrolled": true
   },
   "outputs": [],
   "source": [
    "train['is_month_start'] = train.date.dt.is_month_start.astype(int)\n",
    "train['is_month_end'] = train.date.dt.is_month_end.astype(int)"
   ]
  },
  {
   "cell_type": "code",
   "execution_count": 473,
   "id": "4ba63649",
   "metadata": {
    "scrolled": true
   },
   "outputs": [
    {
     "name": "stderr",
     "output_type": "stream",
     "text": [
      "C:\\Users\\Jordan Tan Rei Yao\\Anaconda3\\lib\\site-packages\\ipykernel_launcher.py:2: FutureWarning: Series.dt.weekofyear and Series.dt.week have been deprecated.  Please use Series.dt.isocalendar().week instead.\n",
      "  \n"
     ]
    }
   ],
   "source": [
    "train['day_of_year'] = train.date.dt.dayofyear\n",
    "train['week_of_year'] = train.date.dt.weekofyear\n",
    "train['day_of_year'] = train.date.dt.dayofyear"
   ]
  },
  {
   "cell_type": "code",
   "execution_count": 474,
   "id": "5b664e69",
   "metadata": {
    "scrolled": true
   },
   "outputs": [],
   "source": [
    "train['quarter'] = train.date.dt.quarter"
   ]
  },
  {
   "cell_type": "code",
   "execution_count": 475,
   "id": "2d433be5",
   "metadata": {
    "scrolled": true
   },
   "outputs": [],
   "source": [
    "train.drop(['day'] ,axis=1, inplace=True)"
   ]
  },
  {
   "cell_type": "code",
   "execution_count": 476,
   "id": "63af2223",
   "metadata": {
    "scrolled": true
   },
   "outputs": [],
   "source": [
    "from sklearn.preprocessing import OneHotEncoder"
   ]
  },
  {
   "cell_type": "code",
   "execution_count": 477,
   "id": "7e8dc26a",
   "metadata": {
    "scrolled": true
   },
   "outputs": [],
   "source": [
    "def random_noise(dataframe):\n",
    "    return np.random.normal(scale=1.6, size=(len(dataframe),))"
   ]
  },
  {
   "cell_type": "code",
   "execution_count": 478,
   "id": "1c86f48b",
   "metadata": {
    "scrolled": true
   },
   "outputs": [],
   "source": [
    "def lag_features(dataframe, lags):\n",
    "    for lag in lags:\n",
    "        dataframe['sales_lag_' + str(lag)] = dataframe.groupby([\"store\", \"item\"])['sales'].transform(\n",
    "            lambda x: x.shift(lag)) + random_noise(dataframe)\n",
    "    return dataframe\n",
    "\n",
    "\n",
    "OH_X_train = lag_features(train, [91, 98, 105, 112, 119, 126, 182, 364, 546, 728])"
   ]
  },
  {
   "cell_type": "code",
   "execution_count": 479,
   "id": "f932e25f",
   "metadata": {
    "scrolled": true
   },
   "outputs": [
    {
     "data": {
      "text/html": [
       "<div>\n",
       "<style scoped>\n",
       "    .dataframe tbody tr th:only-of-type {\n",
       "        vertical-align: middle;\n",
       "    }\n",
       "\n",
       "    .dataframe tbody tr th {\n",
       "        vertical-align: top;\n",
       "    }\n",
       "\n",
       "    .dataframe thead th {\n",
       "        text-align: right;\n",
       "    }\n",
       "</style>\n",
       "<table border=\"1\" class=\"dataframe\">\n",
       "  <thead>\n",
       "    <tr style=\"text-align: right;\">\n",
       "      <th></th>\n",
       "      <th>date</th>\n",
       "      <th>store</th>\n",
       "      <th>item</th>\n",
       "      <th>sales</th>\n",
       "      <th>year</th>\n",
       "      <th>month</th>\n",
       "      <th>day_of_week</th>\n",
       "      <th>week_number</th>\n",
       "      <th>is_wknd</th>\n",
       "      <th>is_month_start</th>\n",
       "      <th>...</th>\n",
       "      <th>sales_lag_91</th>\n",
       "      <th>sales_lag_98</th>\n",
       "      <th>sales_lag_105</th>\n",
       "      <th>sales_lag_112</th>\n",
       "      <th>sales_lag_119</th>\n",
       "      <th>sales_lag_126</th>\n",
       "      <th>sales_lag_182</th>\n",
       "      <th>sales_lag_364</th>\n",
       "      <th>sales_lag_546</th>\n",
       "      <th>sales_lag_728</th>\n",
       "    </tr>\n",
       "  </thead>\n",
       "  <tbody>\n",
       "    <tr>\n",
       "      <th>0</th>\n",
       "      <td>2013-01-01</td>\n",
       "      <td>1</td>\n",
       "      <td>1</td>\n",
       "      <td>13</td>\n",
       "      <td>2013</td>\n",
       "      <td>1</td>\n",
       "      <td>Tuesday</td>\n",
       "      <td>1</td>\n",
       "      <td>0</td>\n",
       "      <td>1</td>\n",
       "      <td>...</td>\n",
       "      <td>NaN</td>\n",
       "      <td>NaN</td>\n",
       "      <td>NaN</td>\n",
       "      <td>NaN</td>\n",
       "      <td>NaN</td>\n",
       "      <td>NaN</td>\n",
       "      <td>NaN</td>\n",
       "      <td>NaN</td>\n",
       "      <td>NaN</td>\n",
       "      <td>NaN</td>\n",
       "    </tr>\n",
       "    <tr>\n",
       "      <th>1</th>\n",
       "      <td>2013-01-02</td>\n",
       "      <td>1</td>\n",
       "      <td>1</td>\n",
       "      <td>11</td>\n",
       "      <td>2013</td>\n",
       "      <td>1</td>\n",
       "      <td>Wednesday</td>\n",
       "      <td>1</td>\n",
       "      <td>0</td>\n",
       "      <td>0</td>\n",
       "      <td>...</td>\n",
       "      <td>NaN</td>\n",
       "      <td>NaN</td>\n",
       "      <td>NaN</td>\n",
       "      <td>NaN</td>\n",
       "      <td>NaN</td>\n",
       "      <td>NaN</td>\n",
       "      <td>NaN</td>\n",
       "      <td>NaN</td>\n",
       "      <td>NaN</td>\n",
       "      <td>NaN</td>\n",
       "    </tr>\n",
       "    <tr>\n",
       "      <th>2</th>\n",
       "      <td>2013-01-03</td>\n",
       "      <td>1</td>\n",
       "      <td>1</td>\n",
       "      <td>14</td>\n",
       "      <td>2013</td>\n",
       "      <td>1</td>\n",
       "      <td>Thursday</td>\n",
       "      <td>1</td>\n",
       "      <td>0</td>\n",
       "      <td>0</td>\n",
       "      <td>...</td>\n",
       "      <td>NaN</td>\n",
       "      <td>NaN</td>\n",
       "      <td>NaN</td>\n",
       "      <td>NaN</td>\n",
       "      <td>NaN</td>\n",
       "      <td>NaN</td>\n",
       "      <td>NaN</td>\n",
       "      <td>NaN</td>\n",
       "      <td>NaN</td>\n",
       "      <td>NaN</td>\n",
       "    </tr>\n",
       "    <tr>\n",
       "      <th>3</th>\n",
       "      <td>2013-01-04</td>\n",
       "      <td>1</td>\n",
       "      <td>1</td>\n",
       "      <td>13</td>\n",
       "      <td>2013</td>\n",
       "      <td>1</td>\n",
       "      <td>Friday</td>\n",
       "      <td>1</td>\n",
       "      <td>1</td>\n",
       "      <td>0</td>\n",
       "      <td>...</td>\n",
       "      <td>NaN</td>\n",
       "      <td>NaN</td>\n",
       "      <td>NaN</td>\n",
       "      <td>NaN</td>\n",
       "      <td>NaN</td>\n",
       "      <td>NaN</td>\n",
       "      <td>NaN</td>\n",
       "      <td>NaN</td>\n",
       "      <td>NaN</td>\n",
       "      <td>NaN</td>\n",
       "    </tr>\n",
       "    <tr>\n",
       "      <th>4</th>\n",
       "      <td>2013-01-05</td>\n",
       "      <td>1</td>\n",
       "      <td>1</td>\n",
       "      <td>10</td>\n",
       "      <td>2013</td>\n",
       "      <td>1</td>\n",
       "      <td>Saturday</td>\n",
       "      <td>1</td>\n",
       "      <td>1</td>\n",
       "      <td>0</td>\n",
       "      <td>...</td>\n",
       "      <td>NaN</td>\n",
       "      <td>NaN</td>\n",
       "      <td>NaN</td>\n",
       "      <td>NaN</td>\n",
       "      <td>NaN</td>\n",
       "      <td>NaN</td>\n",
       "      <td>NaN</td>\n",
       "      <td>NaN</td>\n",
       "      <td>NaN</td>\n",
       "      <td>NaN</td>\n",
       "    </tr>\n",
       "    <tr>\n",
       "      <th>...</th>\n",
       "      <td>...</td>\n",
       "      <td>...</td>\n",
       "      <td>...</td>\n",
       "      <td>...</td>\n",
       "      <td>...</td>\n",
       "      <td>...</td>\n",
       "      <td>...</td>\n",
       "      <td>...</td>\n",
       "      <td>...</td>\n",
       "      <td>...</td>\n",
       "      <td>...</td>\n",
       "      <td>...</td>\n",
       "      <td>...</td>\n",
       "      <td>...</td>\n",
       "      <td>...</td>\n",
       "      <td>...</td>\n",
       "      <td>...</td>\n",
       "      <td>...</td>\n",
       "      <td>...</td>\n",
       "      <td>...</td>\n",
       "      <td>...</td>\n",
       "    </tr>\n",
       "    <tr>\n",
       "      <th>912995</th>\n",
       "      <td>2017-12-27</td>\n",
       "      <td>10</td>\n",
       "      <td>50</td>\n",
       "      <td>63</td>\n",
       "      <td>2017</td>\n",
       "      <td>12</td>\n",
       "      <td>Wednesday</td>\n",
       "      <td>5</td>\n",
       "      <td>0</td>\n",
       "      <td>0</td>\n",
       "      <td>...</td>\n",
       "      <td>79.500915</td>\n",
       "      <td>70.589363</td>\n",
       "      <td>83.196524</td>\n",
       "      <td>79.028712</td>\n",
       "      <td>79.100628</td>\n",
       "      <td>106.213969</td>\n",
       "      <td>90.564911</td>\n",
       "      <td>44.218616</td>\n",
       "      <td>78.114782</td>\n",
       "      <td>53.167525</td>\n",
       "    </tr>\n",
       "    <tr>\n",
       "      <th>912996</th>\n",
       "      <td>2017-12-28</td>\n",
       "      <td>10</td>\n",
       "      <td>50</td>\n",
       "      <td>59</td>\n",
       "      <td>2017</td>\n",
       "      <td>12</td>\n",
       "      <td>Thursday</td>\n",
       "      <td>5</td>\n",
       "      <td>0</td>\n",
       "      <td>0</td>\n",
       "      <td>...</td>\n",
       "      <td>79.155696</td>\n",
       "      <td>88.231375</td>\n",
       "      <td>87.791939</td>\n",
       "      <td>76.538136</td>\n",
       "      <td>87.611172</td>\n",
       "      <td>87.891890</td>\n",
       "      <td>124.590364</td>\n",
       "      <td>66.896236</td>\n",
       "      <td>89.021621</td>\n",
       "      <td>42.947500</td>\n",
       "    </tr>\n",
       "    <tr>\n",
       "      <th>912997</th>\n",
       "      <td>2017-12-29</td>\n",
       "      <td>10</td>\n",
       "      <td>50</td>\n",
       "      <td>74</td>\n",
       "      <td>2017</td>\n",
       "      <td>12</td>\n",
       "      <td>Friday</td>\n",
       "      <td>5</td>\n",
       "      <td>1</td>\n",
       "      <td>0</td>\n",
       "      <td>...</td>\n",
       "      <td>90.801913</td>\n",
       "      <td>99.445664</td>\n",
       "      <td>97.629425</td>\n",
       "      <td>100.264610</td>\n",
       "      <td>98.002535</td>\n",
       "      <td>99.716919</td>\n",
       "      <td>113.731077</td>\n",
       "      <td>63.622318</td>\n",
       "      <td>100.164049</td>\n",
       "      <td>59.846363</td>\n",
       "    </tr>\n",
       "    <tr>\n",
       "      <th>912998</th>\n",
       "      <td>2017-12-30</td>\n",
       "      <td>10</td>\n",
       "      <td>50</td>\n",
       "      <td>62</td>\n",
       "      <td>2017</td>\n",
       "      <td>12</td>\n",
       "      <td>Saturday</td>\n",
       "      <td>5</td>\n",
       "      <td>1</td>\n",
       "      <td>0</td>\n",
       "      <td>...</td>\n",
       "      <td>103.027153</td>\n",
       "      <td>96.353472</td>\n",
       "      <td>97.567293</td>\n",
       "      <td>92.263051</td>\n",
       "      <td>91.677201</td>\n",
       "      <td>90.875961</td>\n",
       "      <td>119.716286</td>\n",
       "      <td>66.392587</td>\n",
       "      <td>113.043339</td>\n",
       "      <td>61.586423</td>\n",
       "    </tr>\n",
       "    <tr>\n",
       "      <th>912999</th>\n",
       "      <td>2017-12-31</td>\n",
       "      <td>10</td>\n",
       "      <td>50</td>\n",
       "      <td>82</td>\n",
       "      <td>2017</td>\n",
       "      <td>12</td>\n",
       "      <td>Sunday</td>\n",
       "      <td>5</td>\n",
       "      <td>1</td>\n",
       "      <td>0</td>\n",
       "      <td>...</td>\n",
       "      <td>99.832047</td>\n",
       "      <td>100.174601</td>\n",
       "      <td>106.843447</td>\n",
       "      <td>95.903143</td>\n",
       "      <td>102.991920</td>\n",
       "      <td>117.358164</td>\n",
       "      <td>119.782697</td>\n",
       "      <td>69.403606</td>\n",
       "      <td>122.686746</td>\n",
       "      <td>83.736596</td>\n",
       "    </tr>\n",
       "  </tbody>\n",
       "</table>\n",
       "<p>913000 rows × 24 columns</p>\n",
       "</div>"
      ],
      "text/plain": [
       "             date  store  item  sales  year  month day_of_week  week_number  \\\n",
       "0      2013-01-01      1     1     13  2013      1     Tuesday            1   \n",
       "1      2013-01-02      1     1     11  2013      1   Wednesday            1   \n",
       "2      2013-01-03      1     1     14  2013      1    Thursday            1   \n",
       "3      2013-01-04      1     1     13  2013      1      Friday            1   \n",
       "4      2013-01-05      1     1     10  2013      1    Saturday            1   \n",
       "...           ...    ...   ...    ...   ...    ...         ...          ...   \n",
       "912995 2017-12-27     10    50     63  2017     12   Wednesday            5   \n",
       "912996 2017-12-28     10    50     59  2017     12    Thursday            5   \n",
       "912997 2017-12-29     10    50     74  2017     12      Friday            5   \n",
       "912998 2017-12-30     10    50     62  2017     12    Saturday            5   \n",
       "912999 2017-12-31     10    50     82  2017     12      Sunday            5   \n",
       "\n",
       "        is_wknd  is_month_start  ...  sales_lag_91  sales_lag_98  \\\n",
       "0             0               1  ...           NaN           NaN   \n",
       "1             0               0  ...           NaN           NaN   \n",
       "2             0               0  ...           NaN           NaN   \n",
       "3             1               0  ...           NaN           NaN   \n",
       "4             1               0  ...           NaN           NaN   \n",
       "...         ...             ...  ...           ...           ...   \n",
       "912995        0               0  ...     79.500915     70.589363   \n",
       "912996        0               0  ...     79.155696     88.231375   \n",
       "912997        1               0  ...     90.801913     99.445664   \n",
       "912998        1               0  ...    103.027153     96.353472   \n",
       "912999        1               0  ...     99.832047    100.174601   \n",
       "\n",
       "        sales_lag_105  sales_lag_112  sales_lag_119  sales_lag_126  \\\n",
       "0                 NaN            NaN            NaN            NaN   \n",
       "1                 NaN            NaN            NaN            NaN   \n",
       "2                 NaN            NaN            NaN            NaN   \n",
       "3                 NaN            NaN            NaN            NaN   \n",
       "4                 NaN            NaN            NaN            NaN   \n",
       "...               ...            ...            ...            ...   \n",
       "912995      83.196524      79.028712      79.100628     106.213969   \n",
       "912996      87.791939      76.538136      87.611172      87.891890   \n",
       "912997      97.629425     100.264610      98.002535      99.716919   \n",
       "912998      97.567293      92.263051      91.677201      90.875961   \n",
       "912999     106.843447      95.903143     102.991920     117.358164   \n",
       "\n",
       "        sales_lag_182  sales_lag_364  sales_lag_546  sales_lag_728  \n",
       "0                 NaN            NaN            NaN            NaN  \n",
       "1                 NaN            NaN            NaN            NaN  \n",
       "2                 NaN            NaN            NaN            NaN  \n",
       "3                 NaN            NaN            NaN            NaN  \n",
       "4                 NaN            NaN            NaN            NaN  \n",
       "...               ...            ...            ...            ...  \n",
       "912995      90.564911      44.218616      78.114782      53.167525  \n",
       "912996     124.590364      66.896236      89.021621      42.947500  \n",
       "912997     113.731077      63.622318     100.164049      59.846363  \n",
       "912998     119.716286      66.392587     113.043339      61.586423  \n",
       "912999     119.782697      69.403606     122.686746      83.736596  \n",
       "\n",
       "[913000 rows x 24 columns]"
      ]
     },
     "execution_count": 479,
     "metadata": {},
     "output_type": "execute_result"
    }
   ],
   "source": [
    "OH_X_train"
   ]
  },
  {
   "cell_type": "code",
   "execution_count": 480,
   "id": "62d9c3c9",
   "metadata": {
    "scrolled": true
   },
   "outputs": [],
   "source": [
    "def roll_mean_features(dataframe, windows):\n",
    "    for window in windows:\n",
    "        dataframe['sales_roll_mean_' + str(window)] = dataframe.groupby([\"store\", \"item\"])['sales']. \\\n",
    "            transform(lambda x: x.shift(1).rolling(window=window, min_periods=10, win_type=\"triang\").mean()) + \\\n",
    "            random_noise(dataframe)\n",
    "    return dataframe"
   ]
  },
  {
   "cell_type": "code",
   "execution_count": 481,
   "id": "83b82b65",
   "metadata": {
    "scrolled": true
   },
   "outputs": [],
   "source": [
    "OH_X_train = roll_mean_features(OH_X_train, [182,365, 546])"
   ]
  },
  {
   "cell_type": "code",
   "execution_count": 482,
   "id": "f89f2ee3",
   "metadata": {
    "scrolled": true
   },
   "outputs": [
    {
     "data": {
      "text/html": [
       "<div>\n",
       "<style scoped>\n",
       "    .dataframe tbody tr th:only-of-type {\n",
       "        vertical-align: middle;\n",
       "    }\n",
       "\n",
       "    .dataframe tbody tr th {\n",
       "        vertical-align: top;\n",
       "    }\n",
       "\n",
       "    .dataframe thead th {\n",
       "        text-align: right;\n",
       "    }\n",
       "</style>\n",
       "<table border=\"1\" class=\"dataframe\">\n",
       "  <thead>\n",
       "    <tr style=\"text-align: right;\">\n",
       "      <th></th>\n",
       "      <th>date</th>\n",
       "      <th>store</th>\n",
       "      <th>item</th>\n",
       "      <th>sales</th>\n",
       "      <th>year</th>\n",
       "      <th>month</th>\n",
       "      <th>day_of_week</th>\n",
       "      <th>week_number</th>\n",
       "      <th>is_wknd</th>\n",
       "      <th>is_month_start</th>\n",
       "      <th>...</th>\n",
       "      <th>sales_lag_112</th>\n",
       "      <th>sales_lag_119</th>\n",
       "      <th>sales_lag_126</th>\n",
       "      <th>sales_lag_182</th>\n",
       "      <th>sales_lag_364</th>\n",
       "      <th>sales_lag_546</th>\n",
       "      <th>sales_lag_728</th>\n",
       "      <th>sales_roll_mean_182</th>\n",
       "      <th>sales_roll_mean_365</th>\n",
       "      <th>sales_roll_mean_546</th>\n",
       "    </tr>\n",
       "  </thead>\n",
       "  <tbody>\n",
       "    <tr>\n",
       "      <th>0</th>\n",
       "      <td>2013-01-01</td>\n",
       "      <td>1</td>\n",
       "      <td>1</td>\n",
       "      <td>13</td>\n",
       "      <td>2013</td>\n",
       "      <td>1</td>\n",
       "      <td>Tuesday</td>\n",
       "      <td>1</td>\n",
       "      <td>0</td>\n",
       "      <td>1</td>\n",
       "      <td>...</td>\n",
       "      <td>NaN</td>\n",
       "      <td>NaN</td>\n",
       "      <td>NaN</td>\n",
       "      <td>NaN</td>\n",
       "      <td>NaN</td>\n",
       "      <td>NaN</td>\n",
       "      <td>NaN</td>\n",
       "      <td>NaN</td>\n",
       "      <td>NaN</td>\n",
       "      <td>NaN</td>\n",
       "    </tr>\n",
       "    <tr>\n",
       "      <th>1</th>\n",
       "      <td>2013-01-02</td>\n",
       "      <td>1</td>\n",
       "      <td>1</td>\n",
       "      <td>11</td>\n",
       "      <td>2013</td>\n",
       "      <td>1</td>\n",
       "      <td>Wednesday</td>\n",
       "      <td>1</td>\n",
       "      <td>0</td>\n",
       "      <td>0</td>\n",
       "      <td>...</td>\n",
       "      <td>NaN</td>\n",
       "      <td>NaN</td>\n",
       "      <td>NaN</td>\n",
       "      <td>NaN</td>\n",
       "      <td>NaN</td>\n",
       "      <td>NaN</td>\n",
       "      <td>NaN</td>\n",
       "      <td>NaN</td>\n",
       "      <td>NaN</td>\n",
       "      <td>NaN</td>\n",
       "    </tr>\n",
       "    <tr>\n",
       "      <th>2</th>\n",
       "      <td>2013-01-03</td>\n",
       "      <td>1</td>\n",
       "      <td>1</td>\n",
       "      <td>14</td>\n",
       "      <td>2013</td>\n",
       "      <td>1</td>\n",
       "      <td>Thursday</td>\n",
       "      <td>1</td>\n",
       "      <td>0</td>\n",
       "      <td>0</td>\n",
       "      <td>...</td>\n",
       "      <td>NaN</td>\n",
       "      <td>NaN</td>\n",
       "      <td>NaN</td>\n",
       "      <td>NaN</td>\n",
       "      <td>NaN</td>\n",
       "      <td>NaN</td>\n",
       "      <td>NaN</td>\n",
       "      <td>NaN</td>\n",
       "      <td>NaN</td>\n",
       "      <td>NaN</td>\n",
       "    </tr>\n",
       "    <tr>\n",
       "      <th>3</th>\n",
       "      <td>2013-01-04</td>\n",
       "      <td>1</td>\n",
       "      <td>1</td>\n",
       "      <td>13</td>\n",
       "      <td>2013</td>\n",
       "      <td>1</td>\n",
       "      <td>Friday</td>\n",
       "      <td>1</td>\n",
       "      <td>1</td>\n",
       "      <td>0</td>\n",
       "      <td>...</td>\n",
       "      <td>NaN</td>\n",
       "      <td>NaN</td>\n",
       "      <td>NaN</td>\n",
       "      <td>NaN</td>\n",
       "      <td>NaN</td>\n",
       "      <td>NaN</td>\n",
       "      <td>NaN</td>\n",
       "      <td>NaN</td>\n",
       "      <td>NaN</td>\n",
       "      <td>NaN</td>\n",
       "    </tr>\n",
       "    <tr>\n",
       "      <th>4</th>\n",
       "      <td>2013-01-05</td>\n",
       "      <td>1</td>\n",
       "      <td>1</td>\n",
       "      <td>10</td>\n",
       "      <td>2013</td>\n",
       "      <td>1</td>\n",
       "      <td>Saturday</td>\n",
       "      <td>1</td>\n",
       "      <td>1</td>\n",
       "      <td>0</td>\n",
       "      <td>...</td>\n",
       "      <td>NaN</td>\n",
       "      <td>NaN</td>\n",
       "      <td>NaN</td>\n",
       "      <td>NaN</td>\n",
       "      <td>NaN</td>\n",
       "      <td>NaN</td>\n",
       "      <td>NaN</td>\n",
       "      <td>NaN</td>\n",
       "      <td>NaN</td>\n",
       "      <td>NaN</td>\n",
       "    </tr>\n",
       "    <tr>\n",
       "      <th>...</th>\n",
       "      <td>...</td>\n",
       "      <td>...</td>\n",
       "      <td>...</td>\n",
       "      <td>...</td>\n",
       "      <td>...</td>\n",
       "      <td>...</td>\n",
       "      <td>...</td>\n",
       "      <td>...</td>\n",
       "      <td>...</td>\n",
       "      <td>...</td>\n",
       "      <td>...</td>\n",
       "      <td>...</td>\n",
       "      <td>...</td>\n",
       "      <td>...</td>\n",
       "      <td>...</td>\n",
       "      <td>...</td>\n",
       "      <td>...</td>\n",
       "      <td>...</td>\n",
       "      <td>...</td>\n",
       "      <td>...</td>\n",
       "      <td>...</td>\n",
       "    </tr>\n",
       "    <tr>\n",
       "      <th>912995</th>\n",
       "      <td>2017-12-27</td>\n",
       "      <td>10</td>\n",
       "      <td>50</td>\n",
       "      <td>63</td>\n",
       "      <td>2017</td>\n",
       "      <td>12</td>\n",
       "      <td>Wednesday</td>\n",
       "      <td>5</td>\n",
       "      <td>0</td>\n",
       "      <td>0</td>\n",
       "      <td>...</td>\n",
       "      <td>79.028712</td>\n",
       "      <td>79.100628</td>\n",
       "      <td>106.213969</td>\n",
       "      <td>90.564911</td>\n",
       "      <td>44.218616</td>\n",
       "      <td>78.114782</td>\n",
       "      <td>53.167525</td>\n",
       "      <td>84.336462</td>\n",
       "      <td>88.183457</td>\n",
       "      <td>81.839769</td>\n",
       "    </tr>\n",
       "    <tr>\n",
       "      <th>912996</th>\n",
       "      <td>2017-12-28</td>\n",
       "      <td>10</td>\n",
       "      <td>50</td>\n",
       "      <td>59</td>\n",
       "      <td>2017</td>\n",
       "      <td>12</td>\n",
       "      <td>Thursday</td>\n",
       "      <td>5</td>\n",
       "      <td>0</td>\n",
       "      <td>0</td>\n",
       "      <td>...</td>\n",
       "      <td>76.538136</td>\n",
       "      <td>87.611172</td>\n",
       "      <td>87.891890</td>\n",
       "      <td>124.590364</td>\n",
       "      <td>66.896236</td>\n",
       "      <td>89.021621</td>\n",
       "      <td>42.947500</td>\n",
       "      <td>87.592998</td>\n",
       "      <td>91.253246</td>\n",
       "      <td>79.497826</td>\n",
       "    </tr>\n",
       "    <tr>\n",
       "      <th>912997</th>\n",
       "      <td>2017-12-29</td>\n",
       "      <td>10</td>\n",
       "      <td>50</td>\n",
       "      <td>74</td>\n",
       "      <td>2017</td>\n",
       "      <td>12</td>\n",
       "      <td>Friday</td>\n",
       "      <td>5</td>\n",
       "      <td>1</td>\n",
       "      <td>0</td>\n",
       "      <td>...</td>\n",
       "      <td>100.264610</td>\n",
       "      <td>98.002535</td>\n",
       "      <td>99.716919</td>\n",
       "      <td>113.731077</td>\n",
       "      <td>63.622318</td>\n",
       "      <td>100.164049</td>\n",
       "      <td>59.846363</td>\n",
       "      <td>87.349422</td>\n",
       "      <td>89.185022</td>\n",
       "      <td>81.534793</td>\n",
       "    </tr>\n",
       "    <tr>\n",
       "      <th>912998</th>\n",
       "      <td>2017-12-30</td>\n",
       "      <td>10</td>\n",
       "      <td>50</td>\n",
       "      <td>62</td>\n",
       "      <td>2017</td>\n",
       "      <td>12</td>\n",
       "      <td>Saturday</td>\n",
       "      <td>5</td>\n",
       "      <td>1</td>\n",
       "      <td>0</td>\n",
       "      <td>...</td>\n",
       "      <td>92.263051</td>\n",
       "      <td>91.677201</td>\n",
       "      <td>90.875961</td>\n",
       "      <td>119.716286</td>\n",
       "      <td>66.392587</td>\n",
       "      <td>113.043339</td>\n",
       "      <td>61.586423</td>\n",
       "      <td>84.748841</td>\n",
       "      <td>91.223375</td>\n",
       "      <td>80.337434</td>\n",
       "    </tr>\n",
       "    <tr>\n",
       "      <th>912999</th>\n",
       "      <td>2017-12-31</td>\n",
       "      <td>10</td>\n",
       "      <td>50</td>\n",
       "      <td>82</td>\n",
       "      <td>2017</td>\n",
       "      <td>12</td>\n",
       "      <td>Sunday</td>\n",
       "      <td>5</td>\n",
       "      <td>1</td>\n",
       "      <td>0</td>\n",
       "      <td>...</td>\n",
       "      <td>95.903143</td>\n",
       "      <td>102.991920</td>\n",
       "      <td>117.358164</td>\n",
       "      <td>119.782697</td>\n",
       "      <td>69.403606</td>\n",
       "      <td>122.686746</td>\n",
       "      <td>83.736596</td>\n",
       "      <td>84.037661</td>\n",
       "      <td>88.925858</td>\n",
       "      <td>81.690761</td>\n",
       "    </tr>\n",
       "  </tbody>\n",
       "</table>\n",
       "<p>913000 rows × 27 columns</p>\n",
       "</div>"
      ],
      "text/plain": [
       "             date  store  item  sales  year  month day_of_week  week_number  \\\n",
       "0      2013-01-01      1     1     13  2013      1     Tuesday            1   \n",
       "1      2013-01-02      1     1     11  2013      1   Wednesday            1   \n",
       "2      2013-01-03      1     1     14  2013      1    Thursday            1   \n",
       "3      2013-01-04      1     1     13  2013      1      Friday            1   \n",
       "4      2013-01-05      1     1     10  2013      1    Saturday            1   \n",
       "...           ...    ...   ...    ...   ...    ...         ...          ...   \n",
       "912995 2017-12-27     10    50     63  2017     12   Wednesday            5   \n",
       "912996 2017-12-28     10    50     59  2017     12    Thursday            5   \n",
       "912997 2017-12-29     10    50     74  2017     12      Friday            5   \n",
       "912998 2017-12-30     10    50     62  2017     12    Saturday            5   \n",
       "912999 2017-12-31     10    50     82  2017     12      Sunday            5   \n",
       "\n",
       "        is_wknd  is_month_start  ...  sales_lag_112  sales_lag_119  \\\n",
       "0             0               1  ...            NaN            NaN   \n",
       "1             0               0  ...            NaN            NaN   \n",
       "2             0               0  ...            NaN            NaN   \n",
       "3             1               0  ...            NaN            NaN   \n",
       "4             1               0  ...            NaN            NaN   \n",
       "...         ...             ...  ...            ...            ...   \n",
       "912995        0               0  ...      79.028712      79.100628   \n",
       "912996        0               0  ...      76.538136      87.611172   \n",
       "912997        1               0  ...     100.264610      98.002535   \n",
       "912998        1               0  ...      92.263051      91.677201   \n",
       "912999        1               0  ...      95.903143     102.991920   \n",
       "\n",
       "        sales_lag_126  sales_lag_182  sales_lag_364  sales_lag_546  \\\n",
       "0                 NaN            NaN            NaN            NaN   \n",
       "1                 NaN            NaN            NaN            NaN   \n",
       "2                 NaN            NaN            NaN            NaN   \n",
       "3                 NaN            NaN            NaN            NaN   \n",
       "4                 NaN            NaN            NaN            NaN   \n",
       "...               ...            ...            ...            ...   \n",
       "912995     106.213969      90.564911      44.218616      78.114782   \n",
       "912996      87.891890     124.590364      66.896236      89.021621   \n",
       "912997      99.716919     113.731077      63.622318     100.164049   \n",
       "912998      90.875961     119.716286      66.392587     113.043339   \n",
       "912999     117.358164     119.782697      69.403606     122.686746   \n",
       "\n",
       "        sales_lag_728  sales_roll_mean_182  sales_roll_mean_365  \\\n",
       "0                 NaN                  NaN                  NaN   \n",
       "1                 NaN                  NaN                  NaN   \n",
       "2                 NaN                  NaN                  NaN   \n",
       "3                 NaN                  NaN                  NaN   \n",
       "4                 NaN                  NaN                  NaN   \n",
       "...               ...                  ...                  ...   \n",
       "912995      53.167525            84.336462            88.183457   \n",
       "912996      42.947500            87.592998            91.253246   \n",
       "912997      59.846363            87.349422            89.185022   \n",
       "912998      61.586423            84.748841            91.223375   \n",
       "912999      83.736596            84.037661            88.925858   \n",
       "\n",
       "        sales_roll_mean_546  \n",
       "0                       NaN  \n",
       "1                       NaN  \n",
       "2                       NaN  \n",
       "3                       NaN  \n",
       "4                       NaN  \n",
       "...                     ...  \n",
       "912995            81.839769  \n",
       "912996            79.497826  \n",
       "912997            81.534793  \n",
       "912998            80.337434  \n",
       "912999            81.690761  \n",
       "\n",
       "[913000 rows x 27 columns]"
      ]
     },
     "execution_count": 482,
     "metadata": {},
     "output_type": "execute_result"
    }
   ],
   "source": [
    "OH_X_train"
   ]
  },
  {
   "cell_type": "code",
   "execution_count": 483,
   "id": "02ccbdc1",
   "metadata": {
    "scrolled": true
   },
   "outputs": [],
   "source": [
    "def exponential_weighted_average(data, alphas, lags):\n",
    "    for alpha in alphas:\n",
    "        for lag in lags:\n",
    "            data['sales_ewm_alpha_' + str(alpha).replace(\".\", \"\") + \"_lag_\" + str(lag)] = \\\n",
    "                data.groupby([\"store\", \"item\"])['sales'].transform(lambda x: x.shift(lag).ewm(alpha=alpha).mean())\n",
    "    return data\n",
    "alphas = [0.95, 0.9, 0.8, 0.7, 0.5]\n",
    "lags = [91, 98, 105, 112, 180, 270, 365, 546, 728]\n",
    "OH_X_train = exponential_weighted_average(OH_X_train, alphas, lags)"
   ]
  },
  {
   "cell_type": "code",
   "execution_count": 485,
   "id": "e5d576ec",
   "metadata": {
    "scrolled": true
   },
   "outputs": [],
   "source": [
    "OH_X_train= pd.get_dummies(OH_X_train, columns=['store', 'item', 'day_of_week','week_number','month'])"
   ]
  },
  {
   "cell_type": "code",
   "execution_count": null,
   "id": "48cf1f33",
   "metadata": {
    "scrolled": false
   },
   "outputs": [],
   "source": [
    "OH_X_train = OH_X_train.reindex(sorted(OH_X_train.columns), axis=1)"
   ]
  },
  {
   "cell_type": "code",
   "execution_count": 491,
   "id": "7d905e94",
   "metadata": {
    "scrolled": true
   },
   "outputs": [],
   "source": [
    "y=OH_X_train['sales']"
   ]
  },
  {
   "cell_type": "code",
   "execution_count": 492,
   "id": "92f86c90",
   "metadata": {
    "scrolled": true
   },
   "outputs": [],
   "source": [
    "y1_train=np.log1p(y)"
   ]
  },
  {
   "cell_type": "code",
   "execution_count": 493,
   "id": "f1b8b112",
   "metadata": {
    "scrolled": true
   },
   "outputs": [],
   "source": [
    "OH_X_train.drop(['sales'],axis=1,inplace=True)"
   ]
  },
  {
   "cell_type": "code",
   "execution_count": 494,
   "id": "19b2f85f",
   "metadata": {
    "scrolled": true
   },
   "outputs": [],
   "source": [
    "OH_X_train.drop(['year'],axis=1,inplace=True)"
   ]
  },
  {
   "cell_type": "code",
   "execution_count": 495,
   "id": "0209fc1d",
   "metadata": {
    "scrolled": true
   },
   "outputs": [],
   "source": [
    "OH_X_train.drop(['date'],axis=1,inplace=True)"
   ]
  },
  {
   "cell_type": "code",
   "execution_count": 498,
   "id": "1013a8e6",
   "metadata": {
    "scrolled": true
   },
   "outputs": [
    {
     "data": {
      "text/plain": [
       "Index(['day_of_week_Friday', 'day_of_week_Monday', 'day_of_week_Saturday',\n",
       "       'day_of_week_Sunday', 'day_of_week_Thursday', 'day_of_week_Tuesday',\n",
       "       'day_of_week_Wednesday', 'day_of_year', 'is_month_end',\n",
       "       'is_month_start',\n",
       "       ...\n",
       "       'store_7', 'store_8', 'store_9', 'week_number_1', 'week_number_2',\n",
       "       'week_number_3', 'week_number_4', 'week_number_5', 'week_number_6',\n",
       "       'week_of_year'],\n",
       "      dtype='object', length=149)"
      ]
     },
     "execution_count": 498,
     "metadata": {},
     "output_type": "execute_result"
    }
   ],
   "source": [
    "OH_X_train.columns"
   ]
  },
  {
   "cell_type": "code",
   "execution_count": 500,
   "id": "820e4ad4",
   "metadata": {
    "scrolled": true
   },
   "outputs": [],
   "source": [
    "# Custom Cost Function\n",
    "def smape(preds, target):\n",
    "    n = len(preds)\n",
    "    masked_arr = ~((preds == 0) & (target == 0))\n",
    "    preds, target = preds[masked_arr], target[masked_arr]\n",
    "    num = np.abs(preds - target)\n",
    "    denom = np.abs(preds) + np.abs(target)\n",
    "    smape_val = (200 * np.sum(num / denom)) / n\n",
    "    return smape_val\n",
    "\n",
    "def lgbm_smape(preds, train_data):\n",
    "    labels = train_data.get_label()\n",
    "    smape_val = smape(np.expm1(preds), np.expm1(labels))\n",
    "    return 'SMAPE', smape_val, False"
   ]
  },
  {
   "cell_type": "code",
   "execution_count": 502,
   "id": "39d57fa0",
   "metadata": {
    "scrolled": true
   },
   "outputs": [],
   "source": [
    "import lightgbm as lgb"
   ]
  },
  {
   "cell_type": "code",
   "execution_count": 503,
   "id": "ed1680a8",
   "metadata": {
    "scrolled": true
   },
   "outputs": [
    {
     "data": {
      "text/plain": [
       "\"\\nlgb_params = {                                                                                                                            \\n        'nthread': -1,\\n        'metric': 'mae',\\n        'boosting_type': 'gbdt',    \\n        'max_depth': 7,\\n        'num_leaves': 28,   \\n        'task': 'train',                                                                                                                      \\n        'objective': 'regression_l1',                                                                                                         \\n        'learning_rate': 0.05,                                                                                                                \\n        'feature_fraction': 0.9,                                                                                                              \\n        'bagging_fraction': 0.8,                                                                                                              \\n        'bagging_freq': 5,                                                                                                                    \\n        'lambda_l1': 0.06,                                                                                                                    \\n        'lambda_l2': 0.05,                                                                                                                    \\n        'verbose': -1,     }\""
      ]
     },
     "execution_count": 503,
     "metadata": {},
     "output_type": "execute_result"
    }
   ],
   "source": [
    "# LightGBM model parameters\n",
    "\n",
    "model_params = {'metric': {'mae'},\n",
    "              'num_leaves': 10,\n",
    "              'learning_rate': 0.02,\n",
    "              'feature_fraction': 0.8,\n",
    "              'max_depth': 5,\n",
    "              'verbose': 0,\n",
    "              'num_boost_round': 20000,\n",
    "               'feature_fraction': 0.9,                                                                                                              \n",
    "               'bagging_fraction': 0.8,                                                                                                              \n",
    "               'bagging_freq': 5,                                                                                                                    \n",
    "               'lambda_l1': 0.06,                                                                                                                    \n",
    "               'lambda_l2': 0.05,\n",
    "              'nthread': -1}"
   ]
  },
  {
   "cell_type": "code",
   "execution_count": 504,
   "id": "aad056ed",
   "metadata": {
    "scrolled": true
   },
   "outputs": [],
   "source": [
    "lgbtrain = lgb.Dataset(data=OH_X_train, label=y1_train, feature_name=list(OH_X_train.columns))"
   ]
  },
  {
   "cell_type": "code",
   "execution_count": 505,
   "id": "6a5273f4",
   "metadata": {
    "scrolled": true
   },
   "outputs": [],
   "source": [
    "lgbval = lgb.Dataset(data=val, label=y1_val, reference=lgbtrain, feature_name=list(OH_X_train.columns))"
   ]
  },
  {
   "cell_type": "code",
   "execution_count": 506,
   "id": "dbafb854",
   "metadata": {
    "scrolled": false
   },
   "outputs": [
    {
     "name": "stderr",
     "output_type": "stream",
     "text": [
      "C:\\Users\\Jordan Tan Rei Yao\\Anaconda3\\lib\\site-packages\\lightgbm\\engine.py:177: UserWarning: Found `num_boost_round` in params. Will use it instead of argument\n",
      "  _log_warning(f\"Found `{alias}` in params. Will use it instead of argument\")\n",
      "C:\\Users\\Jordan Tan Rei Yao\\Anaconda3\\lib\\site-packages\\lightgbm\\engine.py:239: UserWarning: 'verbose_eval' argument is deprecated and will be removed in a future release of LightGBM. Pass 'log_evaluation()' callback via 'callbacks' argument instead.\n",
      "  _log_warning(\"'verbose_eval' argument is deprecated and will be removed in a future release of LightGBM. \"\n"
     ]
    },
    {
     "name": "stdout",
     "output_type": "stream",
     "text": [
      "[LightGBM] [Warning] Auto-choosing col-wise multi-threading, the overhead of testing was 0.295920 seconds.\n",
      "You can set `force_col_wise=true` to remove the overhead.\n"
     ]
    }
   ],
   "source": [
    "model = lgb.train(model_params, lgbtrain,\n",
    "                  num_boost_round=model_params['num_boost_round'],\n",
    "                  feval=lgbm_smape,\n",
    "                  verbose_eval=100)"
   ]
  },
  {
   "cell_type": "code",
   "execution_count": 507,
   "id": "ca41b6cd",
   "metadata": {
    "scrolled": true
   },
   "outputs": [],
   "source": [
    "### START OF PREDICTING ON TEST DATA"
   ]
  },
  {
   "cell_type": "code",
   "execution_count": 508,
   "id": "255ad236",
   "metadata": {
    "scrolled": true
   },
   "outputs": [],
   "source": [
    "test = pd.read_csv(\"test.csv\")"
   ]
  },
  {
   "cell_type": "code",
   "execution_count": 509,
   "id": "54bf3c05",
   "metadata": {
    "scrolled": true
   },
   "outputs": [],
   "source": [
    "train2 = pd.read_csv(\"train.csv\")"
   ]
  },
  {
   "cell_type": "code",
   "execution_count": 510,
   "id": "221d5a11",
   "metadata": {
    "scrolled": true
   },
   "outputs": [],
   "source": [
    "test=pd.concat([train2,test],sort=False)"
   ]
  },
  {
   "cell_type": "code",
   "execution_count": 511,
   "id": "a8d2ac80",
   "metadata": {
    "scrolled": true
   },
   "outputs": [
    {
     "data": {
      "text/html": [
       "<div>\n",
       "<style scoped>\n",
       "    .dataframe tbody tr th:only-of-type {\n",
       "        vertical-align: middle;\n",
       "    }\n",
       "\n",
       "    .dataframe tbody tr th {\n",
       "        vertical-align: top;\n",
       "    }\n",
       "\n",
       "    .dataframe thead th {\n",
       "        text-align: right;\n",
       "    }\n",
       "</style>\n",
       "<table border=\"1\" class=\"dataframe\">\n",
       "  <thead>\n",
       "    <tr style=\"text-align: right;\">\n",
       "      <th></th>\n",
       "      <th>date</th>\n",
       "      <th>store</th>\n",
       "      <th>item</th>\n",
       "      <th>sales</th>\n",
       "      <th>id</th>\n",
       "    </tr>\n",
       "  </thead>\n",
       "  <tbody>\n",
       "    <tr>\n",
       "      <th>0</th>\n",
       "      <td>2013-01-01</td>\n",
       "      <td>1</td>\n",
       "      <td>1</td>\n",
       "      <td>13.0</td>\n",
       "      <td>NaN</td>\n",
       "    </tr>\n",
       "    <tr>\n",
       "      <th>1</th>\n",
       "      <td>2013-01-02</td>\n",
       "      <td>1</td>\n",
       "      <td>1</td>\n",
       "      <td>11.0</td>\n",
       "      <td>NaN</td>\n",
       "    </tr>\n",
       "    <tr>\n",
       "      <th>2</th>\n",
       "      <td>2013-01-03</td>\n",
       "      <td>1</td>\n",
       "      <td>1</td>\n",
       "      <td>14.0</td>\n",
       "      <td>NaN</td>\n",
       "    </tr>\n",
       "    <tr>\n",
       "      <th>3</th>\n",
       "      <td>2013-01-04</td>\n",
       "      <td>1</td>\n",
       "      <td>1</td>\n",
       "      <td>13.0</td>\n",
       "      <td>NaN</td>\n",
       "    </tr>\n",
       "    <tr>\n",
       "      <th>4</th>\n",
       "      <td>2013-01-05</td>\n",
       "      <td>1</td>\n",
       "      <td>1</td>\n",
       "      <td>10.0</td>\n",
       "      <td>NaN</td>\n",
       "    </tr>\n",
       "    <tr>\n",
       "      <th>...</th>\n",
       "      <td>...</td>\n",
       "      <td>...</td>\n",
       "      <td>...</td>\n",
       "      <td>...</td>\n",
       "      <td>...</td>\n",
       "    </tr>\n",
       "    <tr>\n",
       "      <th>44995</th>\n",
       "      <td>2018-03-27</td>\n",
       "      <td>10</td>\n",
       "      <td>50</td>\n",
       "      <td>NaN</td>\n",
       "      <td>44995.0</td>\n",
       "    </tr>\n",
       "    <tr>\n",
       "      <th>44996</th>\n",
       "      <td>2018-03-28</td>\n",
       "      <td>10</td>\n",
       "      <td>50</td>\n",
       "      <td>NaN</td>\n",
       "      <td>44996.0</td>\n",
       "    </tr>\n",
       "    <tr>\n",
       "      <th>44997</th>\n",
       "      <td>2018-03-29</td>\n",
       "      <td>10</td>\n",
       "      <td>50</td>\n",
       "      <td>NaN</td>\n",
       "      <td>44997.0</td>\n",
       "    </tr>\n",
       "    <tr>\n",
       "      <th>44998</th>\n",
       "      <td>2018-03-30</td>\n",
       "      <td>10</td>\n",
       "      <td>50</td>\n",
       "      <td>NaN</td>\n",
       "      <td>44998.0</td>\n",
       "    </tr>\n",
       "    <tr>\n",
       "      <th>44999</th>\n",
       "      <td>2018-03-31</td>\n",
       "      <td>10</td>\n",
       "      <td>50</td>\n",
       "      <td>NaN</td>\n",
       "      <td>44999.0</td>\n",
       "    </tr>\n",
       "  </tbody>\n",
       "</table>\n",
       "<p>958000 rows × 5 columns</p>\n",
       "</div>"
      ],
      "text/plain": [
       "             date  store  item  sales       id\n",
       "0      2013-01-01      1     1   13.0      NaN\n",
       "1      2013-01-02      1     1   11.0      NaN\n",
       "2      2013-01-03      1     1   14.0      NaN\n",
       "3      2013-01-04      1     1   13.0      NaN\n",
       "4      2013-01-05      1     1   10.0      NaN\n",
       "...           ...    ...   ...    ...      ...\n",
       "44995  2018-03-27     10    50    NaN  44995.0\n",
       "44996  2018-03-28     10    50    NaN  44996.0\n",
       "44997  2018-03-29     10    50    NaN  44997.0\n",
       "44998  2018-03-30     10    50    NaN  44998.0\n",
       "44999  2018-03-31     10    50    NaN  44999.0\n",
       "\n",
       "[958000 rows x 5 columns]"
      ]
     },
     "execution_count": 511,
     "metadata": {},
     "output_type": "execute_result"
    }
   ],
   "source": [
    "test"
   ]
  },
  {
   "cell_type": "code",
   "execution_count": 512,
   "id": "d8376177",
   "metadata": {
    "scrolled": true
   },
   "outputs": [],
   "source": [
    "test['year']=test['date'].apply(lambda x: x[:4]).astype(int)\n",
    "test['month']=test['date'].apply(lambda x: x[5:7]).astype(int)\n",
    "test['day']=test['date'].apply(lambda x: x[8:10]).astype(int)"
   ]
  },
  {
   "cell_type": "code",
   "execution_count": 513,
   "id": "aff9f96a",
   "metadata": {
    "scrolled": true
   },
   "outputs": [
    {
     "data": {
      "text/html": [
       "<div>\n",
       "<style scoped>\n",
       "    .dataframe tbody tr th:only-of-type {\n",
       "        vertical-align: middle;\n",
       "    }\n",
       "\n",
       "    .dataframe tbody tr th {\n",
       "        vertical-align: top;\n",
       "    }\n",
       "\n",
       "    .dataframe thead th {\n",
       "        text-align: right;\n",
       "    }\n",
       "</style>\n",
       "<table border=\"1\" class=\"dataframe\">\n",
       "  <thead>\n",
       "    <tr style=\"text-align: right;\">\n",
       "      <th></th>\n",
       "      <th>date</th>\n",
       "      <th>store</th>\n",
       "      <th>item</th>\n",
       "      <th>sales</th>\n",
       "      <th>id</th>\n",
       "      <th>year</th>\n",
       "      <th>month</th>\n",
       "      <th>day</th>\n",
       "    </tr>\n",
       "  </thead>\n",
       "  <tbody>\n",
       "    <tr>\n",
       "      <th>0</th>\n",
       "      <td>2013-01-01</td>\n",
       "      <td>1</td>\n",
       "      <td>1</td>\n",
       "      <td>13.0</td>\n",
       "      <td>NaN</td>\n",
       "      <td>2013</td>\n",
       "      <td>1</td>\n",
       "      <td>1</td>\n",
       "    </tr>\n",
       "    <tr>\n",
       "      <th>1</th>\n",
       "      <td>2013-01-02</td>\n",
       "      <td>1</td>\n",
       "      <td>1</td>\n",
       "      <td>11.0</td>\n",
       "      <td>NaN</td>\n",
       "      <td>2013</td>\n",
       "      <td>1</td>\n",
       "      <td>2</td>\n",
       "    </tr>\n",
       "    <tr>\n",
       "      <th>2</th>\n",
       "      <td>2013-01-03</td>\n",
       "      <td>1</td>\n",
       "      <td>1</td>\n",
       "      <td>14.0</td>\n",
       "      <td>NaN</td>\n",
       "      <td>2013</td>\n",
       "      <td>1</td>\n",
       "      <td>3</td>\n",
       "    </tr>\n",
       "    <tr>\n",
       "      <th>3</th>\n",
       "      <td>2013-01-04</td>\n",
       "      <td>1</td>\n",
       "      <td>1</td>\n",
       "      <td>13.0</td>\n",
       "      <td>NaN</td>\n",
       "      <td>2013</td>\n",
       "      <td>1</td>\n",
       "      <td>4</td>\n",
       "    </tr>\n",
       "    <tr>\n",
       "      <th>4</th>\n",
       "      <td>2013-01-05</td>\n",
       "      <td>1</td>\n",
       "      <td>1</td>\n",
       "      <td>10.0</td>\n",
       "      <td>NaN</td>\n",
       "      <td>2013</td>\n",
       "      <td>1</td>\n",
       "      <td>5</td>\n",
       "    </tr>\n",
       "    <tr>\n",
       "      <th>...</th>\n",
       "      <td>...</td>\n",
       "      <td>...</td>\n",
       "      <td>...</td>\n",
       "      <td>...</td>\n",
       "      <td>...</td>\n",
       "      <td>...</td>\n",
       "      <td>...</td>\n",
       "      <td>...</td>\n",
       "    </tr>\n",
       "    <tr>\n",
       "      <th>44995</th>\n",
       "      <td>2018-03-27</td>\n",
       "      <td>10</td>\n",
       "      <td>50</td>\n",
       "      <td>NaN</td>\n",
       "      <td>44995.0</td>\n",
       "      <td>2018</td>\n",
       "      <td>3</td>\n",
       "      <td>27</td>\n",
       "    </tr>\n",
       "    <tr>\n",
       "      <th>44996</th>\n",
       "      <td>2018-03-28</td>\n",
       "      <td>10</td>\n",
       "      <td>50</td>\n",
       "      <td>NaN</td>\n",
       "      <td>44996.0</td>\n",
       "      <td>2018</td>\n",
       "      <td>3</td>\n",
       "      <td>28</td>\n",
       "    </tr>\n",
       "    <tr>\n",
       "      <th>44997</th>\n",
       "      <td>2018-03-29</td>\n",
       "      <td>10</td>\n",
       "      <td>50</td>\n",
       "      <td>NaN</td>\n",
       "      <td>44997.0</td>\n",
       "      <td>2018</td>\n",
       "      <td>3</td>\n",
       "      <td>29</td>\n",
       "    </tr>\n",
       "    <tr>\n",
       "      <th>44998</th>\n",
       "      <td>2018-03-30</td>\n",
       "      <td>10</td>\n",
       "      <td>50</td>\n",
       "      <td>NaN</td>\n",
       "      <td>44998.0</td>\n",
       "      <td>2018</td>\n",
       "      <td>3</td>\n",
       "      <td>30</td>\n",
       "    </tr>\n",
       "    <tr>\n",
       "      <th>44999</th>\n",
       "      <td>2018-03-31</td>\n",
       "      <td>10</td>\n",
       "      <td>50</td>\n",
       "      <td>NaN</td>\n",
       "      <td>44999.0</td>\n",
       "      <td>2018</td>\n",
       "      <td>3</td>\n",
       "      <td>31</td>\n",
       "    </tr>\n",
       "  </tbody>\n",
       "</table>\n",
       "<p>958000 rows × 8 columns</p>\n",
       "</div>"
      ],
      "text/plain": [
       "             date  store  item  sales       id  year  month  day\n",
       "0      2013-01-01      1     1   13.0      NaN  2013      1    1\n",
       "1      2013-01-02      1     1   11.0      NaN  2013      1    2\n",
       "2      2013-01-03      1     1   14.0      NaN  2013      1    3\n",
       "3      2013-01-04      1     1   13.0      NaN  2013      1    4\n",
       "4      2013-01-05      1     1   10.0      NaN  2013      1    5\n",
       "...           ...    ...   ...    ...      ...   ...    ...  ...\n",
       "44995  2018-03-27     10    50    NaN  44995.0  2018      3   27\n",
       "44996  2018-03-28     10    50    NaN  44996.0  2018      3   28\n",
       "44997  2018-03-29     10    50    NaN  44997.0  2018      3   29\n",
       "44998  2018-03-30     10    50    NaN  44998.0  2018      3   30\n",
       "44999  2018-03-31     10    50    NaN  44999.0  2018      3   31\n",
       "\n",
       "[958000 rows x 8 columns]"
      ]
     },
     "execution_count": 513,
     "metadata": {},
     "output_type": "execute_result"
    }
   ],
   "source": [
    "test"
   ]
  },
  {
   "cell_type": "code",
   "execution_count": 514,
   "id": "f7b37d06",
   "metadata": {
    "scrolled": true
   },
   "outputs": [],
   "source": [
    "test['day_of_week']=test['date'].apply(return_day)"
   ]
  },
  {
   "cell_type": "code",
   "execution_count": 515,
   "id": "e4b65327",
   "metadata": {
    "scrolled": true
   },
   "outputs": [],
   "source": [
    "test['week_number']=test.apply(lambda x: get_week_of_month(x.year, x.month,x.day), axis=1)"
   ]
  },
  {
   "cell_type": "code",
   "execution_count": 516,
   "id": "2825117d",
   "metadata": {
    "scrolled": true
   },
   "outputs": [
    {
     "data": {
      "text/html": [
       "<div>\n",
       "<style scoped>\n",
       "    .dataframe tbody tr th:only-of-type {\n",
       "        vertical-align: middle;\n",
       "    }\n",
       "\n",
       "    .dataframe tbody tr th {\n",
       "        vertical-align: top;\n",
       "    }\n",
       "\n",
       "    .dataframe thead th {\n",
       "        text-align: right;\n",
       "    }\n",
       "</style>\n",
       "<table border=\"1\" class=\"dataframe\">\n",
       "  <thead>\n",
       "    <tr style=\"text-align: right;\">\n",
       "      <th></th>\n",
       "      <th>date</th>\n",
       "      <th>store</th>\n",
       "      <th>item</th>\n",
       "      <th>sales</th>\n",
       "      <th>id</th>\n",
       "      <th>year</th>\n",
       "      <th>month</th>\n",
       "      <th>day</th>\n",
       "      <th>day_of_week</th>\n",
       "      <th>week_number</th>\n",
       "    </tr>\n",
       "  </thead>\n",
       "  <tbody>\n",
       "    <tr>\n",
       "      <th>0</th>\n",
       "      <td>2013-01-01</td>\n",
       "      <td>1</td>\n",
       "      <td>1</td>\n",
       "      <td>13.0</td>\n",
       "      <td>NaN</td>\n",
       "      <td>2013</td>\n",
       "      <td>1</td>\n",
       "      <td>1</td>\n",
       "      <td>Tuesday</td>\n",
       "      <td>1</td>\n",
       "    </tr>\n",
       "    <tr>\n",
       "      <th>1</th>\n",
       "      <td>2013-01-02</td>\n",
       "      <td>1</td>\n",
       "      <td>1</td>\n",
       "      <td>11.0</td>\n",
       "      <td>NaN</td>\n",
       "      <td>2013</td>\n",
       "      <td>1</td>\n",
       "      <td>2</td>\n",
       "      <td>Wednesday</td>\n",
       "      <td>1</td>\n",
       "    </tr>\n",
       "    <tr>\n",
       "      <th>2</th>\n",
       "      <td>2013-01-03</td>\n",
       "      <td>1</td>\n",
       "      <td>1</td>\n",
       "      <td>14.0</td>\n",
       "      <td>NaN</td>\n",
       "      <td>2013</td>\n",
       "      <td>1</td>\n",
       "      <td>3</td>\n",
       "      <td>Thursday</td>\n",
       "      <td>1</td>\n",
       "    </tr>\n",
       "    <tr>\n",
       "      <th>3</th>\n",
       "      <td>2013-01-04</td>\n",
       "      <td>1</td>\n",
       "      <td>1</td>\n",
       "      <td>13.0</td>\n",
       "      <td>NaN</td>\n",
       "      <td>2013</td>\n",
       "      <td>1</td>\n",
       "      <td>4</td>\n",
       "      <td>Friday</td>\n",
       "      <td>1</td>\n",
       "    </tr>\n",
       "    <tr>\n",
       "      <th>4</th>\n",
       "      <td>2013-01-05</td>\n",
       "      <td>1</td>\n",
       "      <td>1</td>\n",
       "      <td>10.0</td>\n",
       "      <td>NaN</td>\n",
       "      <td>2013</td>\n",
       "      <td>1</td>\n",
       "      <td>5</td>\n",
       "      <td>Saturday</td>\n",
       "      <td>1</td>\n",
       "    </tr>\n",
       "    <tr>\n",
       "      <th>...</th>\n",
       "      <td>...</td>\n",
       "      <td>...</td>\n",
       "      <td>...</td>\n",
       "      <td>...</td>\n",
       "      <td>...</td>\n",
       "      <td>...</td>\n",
       "      <td>...</td>\n",
       "      <td>...</td>\n",
       "      <td>...</td>\n",
       "      <td>...</td>\n",
       "    </tr>\n",
       "    <tr>\n",
       "      <th>44995</th>\n",
       "      <td>2018-03-27</td>\n",
       "      <td>10</td>\n",
       "      <td>50</td>\n",
       "      <td>NaN</td>\n",
       "      <td>44995.0</td>\n",
       "      <td>2018</td>\n",
       "      <td>3</td>\n",
       "      <td>27</td>\n",
       "      <td>Tuesday</td>\n",
       "      <td>5</td>\n",
       "    </tr>\n",
       "    <tr>\n",
       "      <th>44996</th>\n",
       "      <td>2018-03-28</td>\n",
       "      <td>10</td>\n",
       "      <td>50</td>\n",
       "      <td>NaN</td>\n",
       "      <td>44996.0</td>\n",
       "      <td>2018</td>\n",
       "      <td>3</td>\n",
       "      <td>28</td>\n",
       "      <td>Wednesday</td>\n",
       "      <td>5</td>\n",
       "    </tr>\n",
       "    <tr>\n",
       "      <th>44997</th>\n",
       "      <td>2018-03-29</td>\n",
       "      <td>10</td>\n",
       "      <td>50</td>\n",
       "      <td>NaN</td>\n",
       "      <td>44997.0</td>\n",
       "      <td>2018</td>\n",
       "      <td>3</td>\n",
       "      <td>29</td>\n",
       "      <td>Thursday</td>\n",
       "      <td>5</td>\n",
       "    </tr>\n",
       "    <tr>\n",
       "      <th>44998</th>\n",
       "      <td>2018-03-30</td>\n",
       "      <td>10</td>\n",
       "      <td>50</td>\n",
       "      <td>NaN</td>\n",
       "      <td>44998.0</td>\n",
       "      <td>2018</td>\n",
       "      <td>3</td>\n",
       "      <td>30</td>\n",
       "      <td>Friday</td>\n",
       "      <td>5</td>\n",
       "    </tr>\n",
       "    <tr>\n",
       "      <th>44999</th>\n",
       "      <td>2018-03-31</td>\n",
       "      <td>10</td>\n",
       "      <td>50</td>\n",
       "      <td>NaN</td>\n",
       "      <td>44999.0</td>\n",
       "      <td>2018</td>\n",
       "      <td>3</td>\n",
       "      <td>31</td>\n",
       "      <td>Saturday</td>\n",
       "      <td>5</td>\n",
       "    </tr>\n",
       "  </tbody>\n",
       "</table>\n",
       "<p>958000 rows × 10 columns</p>\n",
       "</div>"
      ],
      "text/plain": [
       "             date  store  item  sales       id  year  month  day day_of_week  \\\n",
       "0      2013-01-01      1     1   13.0      NaN  2013      1    1     Tuesday   \n",
       "1      2013-01-02      1     1   11.0      NaN  2013      1    2   Wednesday   \n",
       "2      2013-01-03      1     1   14.0      NaN  2013      1    3    Thursday   \n",
       "3      2013-01-04      1     1   13.0      NaN  2013      1    4      Friday   \n",
       "4      2013-01-05      1     1   10.0      NaN  2013      1    5    Saturday   \n",
       "...           ...    ...   ...    ...      ...   ...    ...  ...         ...   \n",
       "44995  2018-03-27     10    50    NaN  44995.0  2018      3   27     Tuesday   \n",
       "44996  2018-03-28     10    50    NaN  44996.0  2018      3   28   Wednesday   \n",
       "44997  2018-03-29     10    50    NaN  44997.0  2018      3   29    Thursday   \n",
       "44998  2018-03-30     10    50    NaN  44998.0  2018      3   30      Friday   \n",
       "44999  2018-03-31     10    50    NaN  44999.0  2018      3   31    Saturday   \n",
       "\n",
       "       week_number  \n",
       "0                1  \n",
       "1                1  \n",
       "2                1  \n",
       "3                1  \n",
       "4                1  \n",
       "...            ...  \n",
       "44995            5  \n",
       "44996            5  \n",
       "44997            5  \n",
       "44998            5  \n",
       "44999            5  \n",
       "\n",
       "[958000 rows x 10 columns]"
      ]
     },
     "execution_count": 516,
     "metadata": {},
     "output_type": "execute_result"
    }
   ],
   "source": [
    "test"
   ]
  },
  {
   "cell_type": "code",
   "execution_count": 517,
   "id": "657eda7d",
   "metadata": {
    "scrolled": true
   },
   "outputs": [],
   "source": [
    "test['date']=pd.to_datetime(test['date'])"
   ]
  },
  {
   "cell_type": "code",
   "execution_count": 518,
   "id": "14b1cb48",
   "metadata": {
    "scrolled": true
   },
   "outputs": [],
   "source": [
    "test[\"is_wknd\"] = test.date.dt.weekday // 4"
   ]
  },
  {
   "cell_type": "code",
   "execution_count": 519,
   "id": "aac6f3fe",
   "metadata": {
    "scrolled": true
   },
   "outputs": [],
   "source": [
    "test['is_month_start'] = test.date.dt.is_month_start.astype(int)\n",
    "test['is_month_end'] = test.date.dt.is_month_end.astype(int)"
   ]
  },
  {
   "cell_type": "code",
   "execution_count": 520,
   "id": "297c2daa",
   "metadata": {
    "scrolled": true
   },
   "outputs": [
    {
     "name": "stderr",
     "output_type": "stream",
     "text": [
      "C:\\Users\\Jordan Tan Rei Yao\\Anaconda3\\lib\\site-packages\\ipykernel_launcher.py:2: FutureWarning: Series.dt.weekofyear and Series.dt.week have been deprecated.  Please use Series.dt.isocalendar().week instead.\n",
      "  \n"
     ]
    }
   ],
   "source": [
    "test['day_of_year'] = test.date.dt.dayofyear\n",
    "test['week_of_year'] = test.date.dt.weekofyear\n",
    "test['day_of_year'] = test.date.dt.dayofyear"
   ]
  },
  {
   "cell_type": "code",
   "execution_count": 521,
   "id": "b778cae4",
   "metadata": {
    "scrolled": true
   },
   "outputs": [],
   "source": [
    "test['quarter'] = test.date.dt.quarter"
   ]
  },
  {
   "cell_type": "code",
   "execution_count": 522,
   "id": "b0d807b6",
   "metadata": {
    "scrolled": true
   },
   "outputs": [],
   "source": [
    "test.drop(['day','date','id'] ,axis=1, inplace=True)"
   ]
  },
  {
   "cell_type": "code",
   "execution_count": 523,
   "id": "0acf4cdd",
   "metadata": {
    "scrolled": true
   },
   "outputs": [],
   "source": [
    "OH_X_test = lag_features(test, [91, 98, 105, 112, 119, 126, 182, 364, 546, 728])"
   ]
  },
  {
   "cell_type": "code",
   "execution_count": 524,
   "id": "7ff907c1",
   "metadata": {
    "scrolled": true
   },
   "outputs": [],
   "source": [
    "OH_X_test = roll_mean_features(OH_X_test, [182,365, 546])"
   ]
  },
  {
   "cell_type": "code",
   "execution_count": 525,
   "id": "3353b1c1",
   "metadata": {
    "scrolled": true
   },
   "outputs": [],
   "source": [
    "OH_X_test = exponential_weighted_average(OH_X_test, alphas, lags)"
   ]
  },
  {
   "cell_type": "code",
   "execution_count": 527,
   "id": "4f0343bc",
   "metadata": {
    "scrolled": true
   },
   "outputs": [],
   "source": [
    "OH_X_test= pd.get_dummies(OH_X_test, columns=['store', 'item', 'day_of_week','week_number','month'])"
   ]
  },
  {
   "cell_type": "code",
   "execution_count": 528,
   "id": "2db725bc",
   "metadata": {
    "scrolled": true
   },
   "outputs": [],
   "source": [
    "OH_X_test = OH_X_test.loc[OH_X_test.sales.isna()]"
   ]
  },
  {
   "cell_type": "code",
   "execution_count": 530,
   "id": "d41f8e40",
   "metadata": {
    "scrolled": true
   },
   "outputs": [],
   "source": [
    "OH_X_test.drop(['sales'],axis=1,inplace=True)"
   ]
  },
  {
   "cell_type": "code",
   "execution_count": 531,
   "id": "d39bb05b",
   "metadata": {
    "scrolled": true
   },
   "outputs": [],
   "source": [
    "OH_X_test = OH_X_test.reindex(sorted(OH_X_test.columns), axis=1)"
   ]
  },
  {
   "cell_type": "code",
   "execution_count": 534,
   "id": "36627d7f",
   "metadata": {
    "scrolled": true
   },
   "outputs": [],
   "source": [
    "OH_X_test.drop(['year'],axis=1,inplace=True)"
   ]
  },
  {
   "cell_type": "code",
   "execution_count": 535,
   "id": "c651fe7a",
   "metadata": {
    "scrolled": true
   },
   "outputs": [],
   "source": [
    "test_pred=model.predict(OH_X_test, num_iteration=model.best_iteration)"
   ]
  },
  {
   "cell_type": "code",
   "execution_count": 537,
   "id": "a070fe39",
   "metadata": {
    "scrolled": true
   },
   "outputs": [],
   "source": [
    "submission=pd.read_csv(\"test.csv\")"
   ]
  },
  {
   "cell_type": "code",
   "execution_count": 538,
   "id": "cd69e026",
   "metadata": {
    "scrolled": true
   },
   "outputs": [],
   "source": [
    "predicted=pd.DataFrame({'sales':np.expm1(test_pred)})"
   ]
  },
  {
   "cell_type": "code",
   "execution_count": 539,
   "id": "1a925b72",
   "metadata": {
    "scrolled": true
   },
   "outputs": [],
   "source": [
    "submission= pd.concat([submission, predicted ], axis=1)"
   ]
  },
  {
   "cell_type": "code",
   "execution_count": 541,
   "id": "a3458696",
   "metadata": {
    "scrolled": true
   },
   "outputs": [],
   "source": [
    "submission[['id','sales']].to_csv('submission_LightGBM.csv', index = False)"
   ]
  }
 ],
 "metadata": {
  "kernelspec": {
   "display_name": "Python 3",
   "language": "python",
   "name": "python3"
  },
  "language_info": {
   "codemirror_mode": {
    "name": "ipython",
    "version": 3
   },
   "file_extension": ".py",
   "mimetype": "text/x-python",
   "name": "python",
   "nbconvert_exporter": "python",
   "pygments_lexer": "ipython3",
   "version": "3.6.2"
  }
 },
 "nbformat": 4,
 "nbformat_minor": 5
}
