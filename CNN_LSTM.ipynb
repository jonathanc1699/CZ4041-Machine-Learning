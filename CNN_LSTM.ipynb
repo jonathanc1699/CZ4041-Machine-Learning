{
  "nbformat": 4,
  "nbformat_minor": 5,
  "metadata": {
    "accelerator": "TPU",
    "colab": {
      "name": "CNN_LSTM.ipynb",
      "provenance": [],
      "collapsed_sections": []
    },
    "kernelspec": {
      "display_name": "Python 3",
      "language": "python",
      "name": "python3"
    },
    "language_info": {
      "codemirror_mode": {
        "name": "ipython",
        "version": 3
      },
      "file_extension": ".py",
      "mimetype": "text/x-python",
      "name": "python",
      "nbconvert_exporter": "python",
      "pygments_lexer": "ipython3",
      "version": "3.6.2"
    }
  },
  "cells": [
    {
      "cell_type": "code",
      "metadata": {
        "colab": {
          "base_uri": "https://localhost:8080/"
        },
        "id": "7aBFvhgySeWi",
        "outputId": "a89d5f68-e9c1-4098-a237-aa24099a5091"
      },
      "source": [
        "from google.colab import drive \n",
        "drive.mount('/content/gdrive')"
      ],
      "id": "7aBFvhgySeWi",
      "execution_count": null,
      "outputs": [
        {
          "output_type": "stream",
          "name": "stdout",
          "text": [
            "Mounted at /content/gdrive\n"
          ]
        }
      ]
    },
    {
      "cell_type": "code",
      "metadata": {
        "id": "5Rlcy00tUxnb"
      },
      "source": [
        "import numpy as np\n",
        "import tensorflow as tf\n",
        "import matplotlib.pyplot as plt\n",
        "import pandas as pd\n",
        "import sklearn.model_selection as ms\n",
        "from tensorflow.keras.preprocessing import sequence\n",
        "import tensorflow.keras.preprocessing.text as text\n",
        "import sklearn.metrics as m\n",
        "import sklearn.preprocessing as pre\n",
        "import datetime\n",
        "import sklearn.utils as u\n",
        "import pandas as pd\n",
        "np.random.seed(0)\n",
        "import tensorflow as tf\n",
        "\n",
        "tf.keras.backend.set_epsilon(1)\n",
        "mape = tf.keras.losses.MeanAbsolutePercentageError()"
      ],
      "id": "5Rlcy00tUxnb",
      "execution_count": null,
      "outputs": []
    },
    {
      "cell_type": "code",
      "metadata": {
        "id": "7cx4DInrSn8Q"
      },
      "source": [
        "data = pd.read_csv('gdrive/My Drive/train.csv')"
      ],
      "id": "7cx4DInrSn8Q",
      "execution_count": null,
      "outputs": []
    },
    {
      "cell_type": "code",
      "metadata": {
        "id": "228B-PhFSric"
      },
      "source": [
        "def features_target_extraction(data, history, prediction_size):\n",
        "    total_features = []\n",
        "    prediction = []\n",
        "\n",
        "    start = history\n",
        "    end = len(data) - prediction_size\n",
        "\n",
        "    for i in range(start, end):\n",
        "        # Get indices for the past n number of days\n",
        "        indexes = range(i-history, i)\n",
        "        # Get the features for the past n number of days\n",
        "        features = data[indexes]\n",
        "        total_features.append(np.reshape(features, (len(features), 1)))\n",
        "        # Get the target values for the n number of days\n",
        "        prediction.append(data[i:i+prediction_size])\n",
        "\n",
        "    return np.array(total_features), np.array(prediction)\n"
      ],
      "id": "228B-PhFSric",
      "execution_count": null,
      "outputs": []
    },
    {
      "cell_type": "code",
      "metadata": {
        "id": "r6IeWq7ZS8VC"
      },
      "source": [
        "def features_extraction(dataset, history):\n",
        "    features = []\n",
        "    features_to_append = dataset[-history:]\n",
        "    features.append(np.reshape(features_to_append, (len(features_to_append), 1)))\n",
        "    return np.array(features)"
      ],
      "id": "r6IeWq7ZS8VC",
      "execution_count": null,
      "outputs": []
    },
    {
      "cell_type": "code",
      "metadata": {
        "id": "T9drf9fSTJu6"
      },
      "source": [
        "threshold = '2017-10-03'"
      ],
      "id": "T9drf9fSTJu6",
      "execution_count": null,
      "outputs": []
    },
    {
      "cell_type": "code",
      "metadata": {
        "id": "i8XTQDSSS-Sf"
      },
      "source": [
        "history = 360\n",
        "target = 90\n",
        "non_sales_features = 2\n",
        "\n",
        "x_train = np.zeros((0, history, 1))\n",
        "x2_train = np.zeros((0, non_sales_features))\n",
        "y_train = np.zeros((0, target))\n",
        "\n",
        "x_valid = np.zeros((0, history, 1))\n",
        "x2_valid = np.zeros((0, non_sales_features))\n",
        "y_valid = np.zeros((0, target))\n",
        "\n",
        "for storeID in range(1, data.store.max()+1):\n",
        "    for itemID in range(1, data.item.max()+1):\n",
        "\n",
        "        # Get the subset of the dataset which contains data for a particular store-item combination\n",
        "        subset = data[(data.store == storeID) & (data.item == itemID)]\n",
        "\n",
        "        train_temp = subset[subset.date < threshold]\n",
        "        valid_temp = subset[subset.date >= threshold]\n",
        "\n",
        "        # Get sales values for the past 360 days and sales values for the next 90 days\n",
        "        x_temp_train, y_temp_train = features_target_extraction(train_temp.sales.values, history, target)\n",
        "\n",
        "        x_temp_valid = train_temp.sales.tail(history).values\n",
        "        x_temp_valid = np.reshape(x_temp_valid, (1, history, 1))\n",
        "\n",
        "        y_temp_valid = np.reshape(valid_temp.sales.values, (1, target))\n",
        "\n",
        "        ## Array containing the store and item ID values\n",
        "        x2_temp_train = np.repeat(np.array([[s, i]]), repeats=x_temp_train.shape[0], axis=0)\n",
        "        x2_temp_valid = np.repeat(np.array([[s, i]]), repeats=x_temp_valid.shape[0], axis=0)\n",
        "\n",
        "        x_train = np.concatenate((x_train, x_temp_train))\n",
        "        x_valid = np.concatenate((x_valid, x_temp_valid))\n",
        "\n",
        "        x2_train = np.concatenate((x2_train, x2_temp_train), axis=0)\n",
        "        x2_valid = np.concatenate((x2_valid, x2_temp_valid), axis=0)\n",
        "\n",
        "        y_train = np.concatenate((y_train, y_temp_train))\n",
        "        y_valid = np.concatenate((y_valid, y_temp_valid))\n"
      ],
      "id": "i8XTQDSSS-Sf",
      "execution_count": null,
      "outputs": []
    },
    {
      "cell_type": "code",
      "metadata": {
        "colab": {
          "base_uri": "https://localhost:8080/"
        },
        "id": "dVHhgTNVTB9r",
        "outputId": "d2cead72-c05a-431a-9168-97477866c16f"
      },
      "source": [
        "n_features = 1\n",
        "n_seq = 4\n",
        "n_steps = 90\n",
        "\n",
        "x_train_reshaped = x_train.reshape((x_train.shape[0], n_seq, 1, n_steps, n_features))\n",
        "x_valid_reshaped = x_valid.reshape((x_valid.shape[0], n_seq, 1, n_steps, n_features))\n",
        "\n",
        "x_train_reshaped.shape, x_valid_reshaped.shape"
      ],
      "id": "dVHhgTNVTB9r",
      "execution_count": null,
      "outputs": [
        {
          "output_type": "execute_result",
          "data": {
            "text/plain": [
              "((643000, 4, 1, 90, 1), (500, 4, 1, 90, 1))"
            ]
          },
          "metadata": {},
          "execution_count": 63
        }
      ]
    },
    {
      "cell_type": "code",
      "metadata": {
        "id": "As51Y9ahTW3L"
      },
      "source": [
        "one_hot_encoder = pre.OneHotEncoder(sparse=False, handle_unknown='ignore')\n",
        "x2_train = pd.DataFrame(one_hot_encoder.fit_transform(x2_train))\n",
        "x2_valid = pd.DataFrame(one_hot_encoder.transform(x2_valid))"
      ],
      "id": "As51Y9ahTW3L",
      "execution_count": null,
      "outputs": []
    },
    {
      "cell_type": "code",
      "metadata": {
        "id": "8jWm3TZPTzDf"
      },
      "source": [
        "x_train_final, x2_train_final, y_train_final = u.shuffle(x_train_reshaped, x2_train, y_train)"
      ],
      "id": "8jWm3TZPTzDf",
      "execution_count": null,
      "outputs": []
    },
    {
      "cell_type": "code",
      "metadata": {
        "id": "X6RpJfF9T_bx"
      },
      "source": [
        "x_valid_final, x2_valid_final, y_valid_final = u.shuffle(x_valid_reshaped, x2_valid, y_valid)"
      ],
      "id": "X6RpJfF9T_bx",
      "execution_count": null,
      "outputs": []
    },
    {
      "cell_type": "code",
      "metadata": {
        "id": "YIoCOsxNUBas"
      },
      "source": [
        "BATCH_SIZE = 250\n",
        "\n",
        "x_train_dataset = tf.data.Dataset.from_tensor_slices((x_train_final, x2_train_final))\n",
        "y_train_dataset = tf.data.Dataset.from_tensor_slices(y_train_final)\n",
        "train_dataset = tf.data.Dataset.zip((x_train_dataset, y_train_dataset))\n",
        "train_dataset = train_dataset.cache().shuffle(x_train.shape[0]).batch(BATCH_SIZE).repeat()\n",
        "\n",
        "x_val_dataset = tf.data.Dataset.from_tensor_slices((x_valid_final, x2_valid_final))\n",
        "y_val_dataset = tf.data.Dataset.from_tensor_slices(y_valid_final)\n",
        "\n",
        "val_dataset = tf.data.Dataset.zip((x_val_dataset, y_val_dataset))\n",
        "val_dataset = val_dataset.batch(BATCH_SIZE).repeat()"
      ],
      "id": "YIoCOsxNUBas",
      "execution_count": null,
      "outputs": []
    },
    {
      "cell_type": "code",
      "metadata": {
        "id": "bXtzzJAmUE8J"
      },
      "source": [
        "model_name = 'model.h5'\n",
        "model_checkpoint_cb = tf.keras.callbacks.ModelCheckpoint(model_name, save_best_only=True, monitor='val_loss', mode='min')"
      ],
      "id": "bXtzzJAmUE8J",
      "execution_count": null,
      "outputs": []
    },
    {
      "cell_type": "code",
      "metadata": {
        "id": "h8BP5rtjUJOo"
      },
      "source": [
        "reduce_lr_cb = tf.keras.callbacks.ReduceLROnPlateau(monitor='val_loss', factor=0.2, patience=2, min_lr=0.00001)\n",
        "adam = tf.keras.optimizers.Adam(learning_rate=0.001)\n",
        "dropout_rate = 0.35"
      ],
      "id": "h8BP5rtjUJOo",
      "execution_count": null,
      "outputs": []
    },
    {
      "cell_type": "code",
      "metadata": {
        "id": "opxAlWMeUNfy"
      },
      "source": [
        "## Building the model\n",
        "input1 = tf.keras.layers.Input(shape=(n_seq, 1, n_steps, n_features))\n",
        "convLSTM = tf.keras.layers.ConvLSTM2D(filters=256, recurrent_dropout=dropout_rate, padding='same', return_sequences=True,  kernel_size=(1,3), activation='relu')(input1)\n",
        "convLSTM = tf.keras.layers.BatchNormalization()(convLSTM)\n",
        "convLSTM = tf.keras.layers.Dropout(dropout_rate)(convLSTM)\n",
        "\n",
        "convLSTM = tf.keras.layers.ConvLSTM2D(filters=256, recurrent_dropout=dropout_rate, padding='same', return_sequences=True,  kernel_size=(1,3), activation='relu')(i1)\n",
        "convLSTM = tf.keras.layers.BatchNormalization()(convLSTM)\n",
        "convLSTM = tf.keras.layers.Dropout(dropout_rate)(convLSTM)\n",
        "\n",
        "convLSTM = tf.keras.layers.ConvLSTM2D(filters=256, recurrent_dropout=dropout_rate, kernel_size=(1,3), activation='relu')(convLSTM)\n",
        "convLSTM = tf.keras.layers.BatchNormalization()(convLSTM)\n",
        "convLSTM = tf.keras.layers.Dropout(dropout_rate)(convLSTM)\n",
        "flatten = tf.keras.layers.Flatten()(convLSTM)\n",
        "\n",
        "input2 = tf.keras.layers.Input(shape=(x2_train.shape[1]))\n",
        "ohl = tf.keras.layers.Dense(units=10, activation='relu')(input2)\n",
        "\n",
        "merge = tf.keras.layers.concatenate([flatten, ohl])\n",
        "dense = tf.keras.layers.Dense(units=150, activation='relu')(merge)\n",
        "output = tf.keras.layers.Dense(90)(dense)\n",
        "\n",
        "final_model = tf.keras.models.Model(inputs=[input1, in2], outputs=output)\n",
        "\n",
        "final_model.compile(optimizer=adam, loss='mape')\n"
      ],
      "id": "opxAlWMeUNfy",
      "execution_count": null,
      "outputs": []
    },
    {
      "cell_type": "code",
      "metadata": {
        "colab": {
          "base_uri": "https://localhost:8080/"
        },
        "id": "xzVeHYjpUQPm",
        "outputId": "f7283256-da82-4974-f045-cba70f95514b"
      },
      "source": [
        "final_model.summary()"
      ],
      "id": "xzVeHYjpUQPm",
      "execution_count": null,
      "outputs": [
        {
          "output_type": "stream",
          "name": "stdout",
          "text": [
            "Model: \"model\"\n",
            "__________________________________________________________________________________________________\n",
            " Layer (type)                   Output Shape         Param #     Connected to                     \n",
            "==================================================================================================\n",
            " input_1 (InputLayer)           [(None, 4, 1, 90, 1  0           []                               \n",
            "                                )]                                                                \n",
            "                                                                                                  \n",
            " conv_lstm2d_1 (ConvLSTM2D)     (None, 4, 1, 90, 25  790528      ['input_1[0][0]']                \n",
            "                                6)                                                                \n",
            "                                                                                                  \n",
            " batch_normalization_1 (BatchNo  (None, 4, 1, 90, 25  1024       ['conv_lstm2d_1[0][0]']          \n",
            " rmalization)                   6)                                                                \n",
            "                                                                                                  \n",
            " dropout_1 (Dropout)            (None, 4, 1, 90, 25  0           ['batch_normalization_1[0][0]']  \n",
            "                                6)                                                                \n",
            "                                                                                                  \n",
            " conv_lstm2d_2 (ConvLSTM2D)     (None, 1, 88, 256)   1573888     ['dropout_1[0][0]']              \n",
            "                                                                                                  \n",
            " batch_normalization_2 (BatchNo  (None, 1, 88, 256)  1024        ['conv_lstm2d_2[0][0]']          \n",
            " rmalization)                                                                                     \n",
            "                                                                                                  \n",
            " dropout_2 (Dropout)            (None, 1, 88, 256)   0           ['batch_normalization_2[0][0]']  \n",
            "                                                                                                  \n",
            " input_2 (InputLayer)           [(None, 60)]         0           []                               \n",
            "                                                                                                  \n",
            " flatten (Flatten)              (None, 22528)        0           ['dropout_2[0][0]']              \n",
            "                                                                                                  \n",
            " dense (Dense)                  (None, 10)           610         ['input_2[0][0]']                \n",
            "                                                                                                  \n",
            " concatenate (Concatenate)      (None, 22538)        0           ['flatten[0][0]',                \n",
            "                                                                  'dense[0][0]']                  \n",
            "                                                                                                  \n",
            " dense_1 (Dense)                (None, 150)          3380850     ['concatenate[0][0]']            \n",
            "                                                                                                  \n",
            " dense_2 (Dense)                (None, 90)           13590       ['dense_1[0][0]']                \n",
            "                                                                                                  \n",
            "==================================================================================================\n",
            "Total params: 5,761,514\n",
            "Trainable params: 5,760,490\n",
            "Non-trainable params: 1,024\n",
            "__________________________________________________________________________________________________\n"
          ]
        }
      ]
    },
    {
      "cell_type": "code",
      "metadata": {
        "id": "DLZwzJsGUTiV"
      },
      "source": [
        "no_of_batches = 600\n",
        "iterations = 50\n",
        "\n",
        "history = final_model.fit(train_dataset, \n",
        "                epochs=iterations, \n",
        "                callbacks=[reduce_lr_cb, model_checkpoint_cb],\n",
        "                steps_per_epoch=no_of_batches, \n",
        "                verbose=1,\n",
        "                validation_data=val_dataset, validation_steps=100)\n",
        "\n",
        "\n",
        "model = tf.keras.models.load_model(model_name)\n",
        "\n",
        "y_pred = pd.DataFrame()\n",
        "for i in range(1, data.item.max()+1):\n",
        "    for s in range(1, data.store.max()+1):\n",
        "        t = data[(data.store == s) & (data.item == i)]\n",
        "\n",
        "        x_t = features_extraction(t.sales.values, history)\n",
        "        x_t = x_t.reshape((x_t.shape[0], n_seq, 1, n_steps, n_features))\n",
        "\n",
        "        x2_t = np.array([[s, i]])\n",
        "        x2_t = pd.DataFrame(one_hot_encoder.transform(x2_t))\n",
        "\n",
        "        y_t = pd.DataFrame()\n",
        "        y_t['sales'] = model.predict([x_t, x2_t]).reshape((-1))\n",
        "        y_pred = y_pred.append(y_t, ignore_index=True)\n",
        "\n",
        "y_pred['Id'] = y_pred.index\n",
        "y_pred\n",
        "\n",
        "\n",
        "y_pred.to_csv(\"gdrive/My Drive/submission_CNN_LSTM.csv\", index=False)"
      ],
      "id": "DLZwzJsGUTiV",
      "execution_count": null,
      "outputs": []
    }
  ]
}